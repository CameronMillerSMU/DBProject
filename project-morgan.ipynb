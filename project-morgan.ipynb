{
 "cells": [
  {
   "cell_type": "code",
   "execution_count": 3,
   "id": "21f8eb06",
   "metadata": {},
   "outputs": [],
   "source": [
    "from project import *\n",
    "import csv\n",
    "import mysql.connector as sql\n",
    "from mysql.connector import Error"
   ]
  },
  {
   "cell_type": "code",
   "execution_count": 4,
   "id": "35e2fa04",
   "metadata": {},
   "outputs": [
    {
     "name": "stdout",
     "output_type": "stream",
     "text": [
      "Database created successfully\n"
     ]
    }
   ],
   "source": [
    "# get connection \n",
    "dbConn = create_connection(\"localhost\", \"root\", \"123456\", \"progDB\")\n",
    "cursor = dbConn.cursor()\n",
    "create_database(cursor, \"progDB\")"
   ]
  },
  {
   "cell_type": "code",
   "execution_count": 24,
   "id": "11a5d6cc",
   "metadata": {},
   "outputs": [],
   "source": [
    "# create the tables from file\n",
    "# NOTE: need to rework for the if not exists  \n",
    "def create_tables_from_file_m(cursor, filename, connection):\n",
    "    try:\n",
    "        with open(filename,'r') as file:\n",
    "            sql_script = file.read()\n",
    "            \n",
    "        for result in cursor.execute(sql_script, multi=True):\n",
    "            pass\n",
    "    except Error as e:\n",
    "        print(f\"The error '{e} occurred'\")\n",
    "    \n",
    "    connection.commit()\n",
    "    "
   ]
  },
  {
   "cell_type": "markdown",
   "id": "e4134170",
   "metadata": {},
   "source": [
    "## General Database Management"
   ]
  },
  {
   "cell_type": "code",
   "execution_count": 12,
   "id": "175eb37b",
   "metadata": {},
   "outputs": [],
   "source": [
    "tables = [\"Programs\", \"Departments\", \"Faculty\", \"Courses\",\n",
    "          \"Semesters\", \"CourseSections\", \"LearningObjectives\", \n",
    "          \"ProgramObjectives\", \"SectionObjectives\"]\n",
    "\n",
    "def clear_database(cursor, connection, tableList):\n",
    "    try:\n",
    "        cursor.execute(\"SET FOREIGN_KEY_CHECKS = 0\")\n",
    "        for table in tableList:\n",
    "            sqlcom = \"DROP TABLE IF EXISTS %s\" % (table)\n",
    "            cursor.execute(sqlcom)\n",
    "        cursor.execute(\"SET FOREIGN_KEY_CHECKS = 1\")\n",
    "    except Error as e:\n",
    "        print(f\"The error '{e} occurred'\")\n",
    "    connection.commit()"
   ]
  },
  {
   "cell_type": "code",
   "execution_count": 19,
   "id": "1a0f0556",
   "metadata": {},
   "outputs": [],
   "source": [
    "def enter_program_info(cursor, connection, prog_name, pc_id, pc_name, pc_email, dept_code):\n",
    "    '''Check to see if program coordinator exists, if not add them to the faculty table'''\n",
    "    try:\n",
    "        cursor.execute(\"SELECT * FROM Faculty WHERE FacultyID = %s\", pc_id)\n",
    "        result = cursor.fetchall()\n",
    "    except Error as e:\n",
    "        print(f\"Error executing Faculty select: {e}\")\n",
    "    \n",
    "    if not cursor.fetchall():\n",
    "        #make new faculty\n",
    "        enter_faculty_info(cursor, connection, pc_id, pc_name, pc_email, dept_code, fac_rank=0)\n",
    "    try:\n",
    "        # Insert data into the Programs table\n",
    "        cursor.execute(\"\"\"\n",
    "            INSERT INTO Programs (ProgramName, ProgramCoordinatorID, ProgramCoordinatorName, ProgramCoordinatorEmail, DepartmentCode)\n",
    "            VALUES (?, ?, ?, ?, ?)\n",
    "        \"\"\", (prog_name, pc_id, pc_name, pc_email, dept_code))\n",
    "\n",
    "        # Commit the transaction\n",
    "        connection.commit()\n",
    "\n",
    "        print(f\"Data for program '{prog_name}' successfully inserted into the Programs table.\")\n",
    "    except Error as e:\n",
    "        print(f\"Error inserting program data: {e}\")\n",
    "    \n",
    "\n",
    "def enter_department_info(cursor, connection, dep_code, dep_name):\n",
    "    try:\n",
    "        # Insert data into the Departments table\n",
    "        cursor.execute(\"\"\"\n",
    "            INSERT INTO Departments (DepartmentCode, DepartmentName)\n",
    "            VALUES (?, ?)\n",
    "        \"\"\", (dep_code, dep_name))\n",
    "\n",
    "        # Commit the transaction\n",
    "        connection.commit()\n",
    "\n",
    "        print(f\"Data for department '{dep_name}' successfully inserted into the Departments table.\")\n",
    "    except Error as e:\n",
    "        print(f\"Error inserting department data: {e}\")\n",
    "\n",
    "def enter_faculty_info(cursor, connection, fac_id, fac_name, fac_email, dep_code, fac_rank=0):\n",
    "    try:\n",
    "        # Insert data into the Faculty table\n",
    "        cursor.execute(\"\"\"\n",
    "            INSERT INTO Faculty (FacultyID, FacultyName, FacultyEmail, FacultyRank, DepartmentCode)\n",
    "            VALUES (?, ?, ?, ?, ?)\n",
    "        \"\"\", (fac_id, fac_name, fac_email, fac_rank, dep_code))\n",
    "\n",
    "        # Commit the transaction\n",
    "        connection.commit()\n",
    "\n",
    "        print(f\"Data for faculty '{fac_name}' successfully inserted into the Faculty table.\")\n",
    "    except Error as e:\n",
    "        print(f\"Error inserting faculty data: {e}\")\n",
    "\n",
    "def enter_course_info(cursor, connection, co_id, co_title, co_desc, dep_code):\n",
    "    try:\n",
    "        # Insert data into the Courses table\n",
    "        cursor.execute(\"\"\"\n",
    "            INSERT INTO Courses (CourseID, CourseTitle, CourseDescription, DepartmentCode)\n",
    "            VALUES (?, ?, ?, ?)\n",
    "        \"\"\", (co_id, co_title, co_desc, dep_code))\n",
    "\n",
    "        # Commit the transaction\n",
    "        connection.commit()\n",
    "\n",
    "        print(f\"Data for course '{co_title}' successfully inserted into the Courses table.\")\n",
    "    except Error as e:\n",
    "        print(f\"Error inserting course data: {e}\")\n",
    "    "
   ]
  },
  {
   "cell_type": "code",
   "execution_count": 13,
   "id": "d0309e61",
   "metadata": {},
   "outputs": [],
   "source": []
  }
 ],
 "metadata": {
  "kernelspec": {
   "display_name": "Python 3 (ipykernel)",
   "language": "python",
   "name": "python3"
  },
  "language_info": {
   "codemirror_mode": {
    "name": "ipython",
    "version": 3
   },
   "file_extension": ".py",
   "mimetype": "text/x-python",
   "name": "python",
   "nbconvert_exporter": "python",
   "pygments_lexer": "ipython3",
   "version": "3.7.16"
  }
 },
 "nbformat": 4,
 "nbformat_minor": 5
}
