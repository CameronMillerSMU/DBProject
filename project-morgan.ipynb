{
 "cells": [
  {
   "cell_type": "code",
   "execution_count": 29,
   "id": "21f8eb06",
   "metadata": {},
   "outputs": [],
   "source": [
    "from project import *\n",
    "import csv\n",
    "import mysql.connector as sql\n",
    "from mysql.connector import Error"
   ]
  },
  {
   "cell_type": "code",
   "execution_count": 105,
   "id": "48003249",
   "metadata": {},
   "outputs": [],
   "source": [
    "clear_database(cursor, dbConn, tables)"
   ]
  },
  {
   "cell_type": "code",
   "execution_count": 106,
   "id": "35e2fa04",
   "metadata": {},
   "outputs": [],
   "source": [
    "# get connection \n",
    "# dbConn = create_connection(\"localhost\", \"root\", \"123456\", \"progDB\")\n",
    "# cursor = dbConn.cursor()\n",
    "# create_database(cursor, \"progDB\")\n",
    "create_tables_from_file_m(cursor, \"test_schema.sql\", dbConn)"
   ]
  },
  {
   "cell_type": "code",
   "execution_count": 32,
   "id": "11a5d6cc",
   "metadata": {},
   "outputs": [],
   "source": [
    "# create the tables from file\n",
    "# NOTE: need to rework for the if not exists  \n",
    "def create_tables_from_file_m(cursor, filename, connection):\n",
    "    try:\n",
    "        with open(filename,'r') as file:\n",
    "            sql_script = file.read()\n",
    "            \n",
    "        for result in cursor.execute(sql_script, multi=True):\n",
    "            pass\n",
    "    except Error as e:\n",
    "        print(f\"The error '{e} occurred'\")\n",
    "    \n",
    "    connection.commit()\n",
    "    "
   ]
  },
  {
   "cell_type": "markdown",
   "id": "e4134170",
   "metadata": {},
   "source": [
    "## General Database Management"
   ]
  },
  {
   "cell_type": "code",
   "execution_count": 98,
   "id": "175eb37b",
   "metadata": {},
   "outputs": [],
   "source": [
    "tables = [\"Programs\", \"Departments\", \"Faculty\", \"Courses\",\n",
    "          \"Semesters\", \"CourseSections\", \"LearningObjectives\", \n",
    "          \"ProgramObjectives\", \"SectionObjectives\", \"SubObjectives\",\n",
    "          \"ProgramCourses\"]\n",
    "\n",
    "def clear_database(cursor, connection, tableList):\n",
    "    try:\n",
    "        cursor.execute(\"SET FOREIGN_KEY_CHECKS = 0\")\n",
    "        for table in tableList:\n",
    "            sqlcom = \"DROP TABLE IF EXISTS %s\" % (table)\n",
    "            cursor.execute(sqlcom)\n",
    "        cursor.execute(\"SET FOREIGN_KEY_CHECKS = 1\")\n",
    "    except Error as e:\n",
    "        print(f\"The error '{e} occurred'\")\n",
    "    connection.commit()"
   ]
  },
  {
   "cell_type": "code",
   "execution_count": 83,
   "id": "1a0f0556",
   "metadata": {},
   "outputs": [],
   "source": [
    "def check_dept_exists(dept_code):\n",
    "    try:\n",
    "        com = \"SELECT * FROM Departments WHERE DepartmentCode = '%s'\" % (dept_code) \n",
    "        cursor.execute(com)\n",
    "        \n",
    "        if cursor.fetchall():\n",
    "            return True\n",
    "        \n",
    "        print(\"Department does not exist. Please check department code.\")\n",
    "        return False\n",
    "    except Error as e:\n",
    "        print(f\"Error executing Department Select: {e}\")\n",
    "        \n",
    "        \n",
    "def check_fal_exists(fal_id):\n",
    "    try:\n",
    "        com = \"SELECT * FROM Faculty WHERE FacultyID = '%s'\" % (fal_id) \n",
    "        cursor.execute(com)\n",
    "        \n",
    "        if cursor.fetchall():\n",
    "            return True\n",
    "        \n",
    "        print(\"Faculty member does not exist. Please check faculty id\")\n",
    "        return False\n",
    "    except Error as e:\n",
    "        print(f\"Error executing Faculty Select: {e}\")\n",
    "        \n",
    "def check_program_exists(prog_name):\n",
    "    try:\n",
    "        com = \"SELECT * FROM Programs WHERE ProgramName = '%s'\" % (prog_name) \n",
    "        cursor.execute(com)\n",
    "        \n",
    "        if cursor.fetchall():\n",
    "            return True\n",
    "        \n",
    "        print(\"Program does not exist. Please check program name\")\n",
    "        return False\n",
    "    except Error as e:\n",
    "        print(f\"Error executing Program Select: {e}\")\n",
    "    \n",
    "def enter_program_info(cursor, connection, prog_name, pc_id, dept_code):\n",
    "    '''Check to see if program coordinator exists, if not add them to the faculty table'''\n",
    "    \n",
    "    #check if department exists, if not, return error \n",
    "    if not check_dept_exists(dept_code):\n",
    "        return False\n",
    "    \n",
    "    if not check_fal_exists(pc_id):\n",
    "        return False\n",
    "    \n",
    "    try:\n",
    "        # Insert data into the Programs table\n",
    "        sqlcom = \"INSERT INTO Programs \\\n",
    "        (ProgramName, ProgramCoordinatorID, DepartmentCode) \\\n",
    "        VALUES (%s, %s, %s)\"\n",
    "        \n",
    "        program_data = (prog_name, pc_id, dept_code)\n",
    "        \n",
    "        cursor.execute(sqlcom, program_data)\n",
    "        # Commit the transaction\n",
    "        connection.commit()\n",
    "\n",
    "        print(f\"Data for program '{prog_name}' successfully inserted into the Programs table.\")\n",
    "    except Error as e:\n",
    "        print(f\"Error inserting program data: {e}\")\n",
    "    \n",
    "\n",
    "def enter_department_info(cursor, connection, dept_code, dept_name):\n",
    "    try:\n",
    "        # Insert data into the Departments table\n",
    "        sqlcom = \"INSERT INTO Departments (DepartmentCode, DepartmentName) \\\n",
    "            VALUES (%s, %s)\"\n",
    "        dept_info = (dept_code, dept_name)\n",
    "        cursor.execute(sqlcom, dept_info)\n",
    "\n",
    "        # Commit the transaction\n",
    "        connection.commit()\n",
    "\n",
    "        print(f\"Data for department '{dept_name}' successfully inserted into the Departments table.\")\n",
    "    except Error as e:\n",
    "        print(f\"Error inserting department data: {e}\")\n",
    "\n",
    "def enter_faculty_info(cursor, connection, fac_id, fac_name, fac_email, dept_code, fac_rank=None):\n",
    "    try:\n",
    "        if not check_dept_exists(dept_code):\n",
    "            return\n",
    "    \n",
    "        # Insert data into the Faculty table\n",
    "        sqlcom = \"INSERT INTO Faculty (FacultyID, FacultyName, FacultyEmail, FacultyRank, DepartmentCode) \\\n",
    "        VALUES (%s, %s, %s, %s, %s)\"\n",
    "        faculty_data = (fac_id, fac_name, fac_email, fac_rank, dept_code)\n",
    "        cursor.execute(sqlcom, faculty_data)\n",
    "\n",
    "        # Commit the transaction\n",
    "        connection.commit()\n",
    "\n",
    "        print(f\"Data for faculty '{fac_name}' successfully inserted into the Faculty table.\")\n",
    "    except Error as e:\n",
    "        print(f\"Error inserting faculty data: {e}\")\n",
    "\n",
    "def enter_course_info(cursor, connection, co_id, co_title, co_desc, dept_code):\n",
    "    try:\n",
    "        # Insert data into the Courses table\n",
    "        sqlcom = \"INSERT INTO Courses (CourseID, CourseTitle, CourseDescription, DepartmentCode) \\\n",
    "            VALUES (%s, %s, %s, %s)\"\n",
    "        course_data = (co_id, co_title, co_desc, dept_code)\n",
    "        cursor.execute(sqlcom, course_data)\n",
    "\n",
    "        # Commit the transaction\n",
    "        connection.commit()\n",
    "\n",
    "        print(f\"Data for course '{co_title}' successfully inserted into the Courses table.\")\n",
    "    except Error as e:\n",
    "        print(f\"Error inserting course data: {e}\")\n",
    "    "
   ]
  },
  {
   "cell_type": "code",
   "execution_count": 108,
   "id": "5c5539b7",
   "metadata": {},
   "outputs": [
    {
     "name": "stdout",
     "output_type": "stream",
     "text": [
      "Data for department 'Test Department' successfully inserted into the Departments table.\n",
      "Error inserting faculty data: 3819 (HY000): Check constraint 'faculty_chk_1' is violated.\n"
     ]
    }
   ],
   "source": [
    "enter_department_info(cursor, dbConn, \"0000\", \"Test Department\")\n",
    "#enter_faculty_info(cursor, dbConn, \"1111111\", \"Test Falc\", \"faltest@gmail.com\", \"0000\")\n",
    "#enter_program_info(cursor, dbConn, \"Test 2 Program\", \"1111112\", \"0000\")\n",
    "enter_faculty_info(cursor, dbConn, \"1111113\", \"Test Falc 3\", \"faltest3@gmail.com\", \"0000\", \"boop\")"
   ]
  },
  {
   "cell_type": "markdown",
   "id": "8c258484",
   "metadata": {},
   "source": [
    "## User Input Handling\n",
    "- check emails\n",
    "- delete all "
   ]
  }
 ],
 "metadata": {
  "kernelspec": {
   "display_name": "Python 3 (ipykernel)",
   "language": "python",
   "name": "python3"
  },
  "language_info": {
   "codemirror_mode": {
    "name": "ipython",
    "version": 3
   },
   "file_extension": ".py",
   "mimetype": "text/x-python",
   "name": "python",
   "nbconvert_exporter": "python",
   "pygments_lexer": "ipython3",
   "version": "3.7.16"
  }
 },
 "nbformat": 4,
 "nbformat_minor": 5
}
