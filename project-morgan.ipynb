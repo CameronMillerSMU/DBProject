{
 "cells": [
  {
   "cell_type": "code",
   "execution_count": 4,
   "id": "577da783",
   "metadata": {},
   "outputs": [],
   "source": [
    "from project import *\n",
    "import csv\n",
    "import mysql.connector as sql\n",
    "from mysql.connector import Error\n"
   ]
  },
  {
   "cell_type": "code",
   "execution_count": 12,
   "id": "bf9a3b36",
   "metadata": {},
   "outputs": [
    {
     "name": "stdout",
     "output_type": "stream",
     "text": [
      "Database created successfully\n"
     ]
    }
   ],
   "source": [
    "# get connection \n",
    "dbConn = create_connection(\"localhost\", \"root\", \"123456\", \"progDB\")\n",
    "cursor = dbConn.cursor()\n",
    "create_database(cursor, \"progDB\")"
   ]
  },
  {
   "cell_type": "code",
   "execution_count": 20,
   "id": "ee6efffa",
   "metadata": {},
   "outputs": [],
   "source": [
    "# create the tables from file\n",
    "def create_tables_from_file_m(cursor, filename, connection):\n",
    "    try:\n",
    "        with open(filename,'r') as file:\n",
    "            sql_script = file.read()\n",
    "\n",
    "        for result in cursor.execute(sql_script, multi=True):\n",
    "            pass\n",
    "    except Error as e:\n",
    "        print(f\"The error '{e} occurred'\")\n",
    "    \n",
    "    connection.commit()"
   ]
  },
  {
   "cell_type": "code",
   "execution_count": 19,
   "id": "7b44e93e",
   "metadata": {},
   "outputs": [],
   "source": [
    "create_tables_from_file_m(cursor, \"sql_schema.sql\", dbConn)"
   ]
  }
 ],
 "metadata": {
  "kernelspec": {
   "display_name": "Python 3 (ipykernel)",
   "language": "python",
   "name": "python3"
  },
  "language_info": {
   "codemirror_mode": {
    "name": "ipython",
    "version": 3
   },
   "file_extension": ".py",
   "mimetype": "text/x-python",
   "name": "python",
   "nbconvert_exporter": "python",
   "pygments_lexer": "ipython3",
   "version": "3.7.16"
  }
 },
 "nbformat": 4,
 "nbformat_minor": 5
}
